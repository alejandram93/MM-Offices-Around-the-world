{
 "cells": [
  {
   "cell_type": "code",
   "execution_count": 1,
   "id": "92a13071",
   "metadata": {},
   "outputs": [],
   "source": [
    "import pandas as pd\n",
    "from keplergl import KeplerGl"
   ]
  },
  {
   "cell_type": "code",
   "execution_count": 12,
   "id": "1f7b1562",
   "metadata": {},
   "outputs": [
    {
     "data": {
      "text/html": [
       "<div>\n",
       "<style scoped>\n",
       "    .dataframe tbody tr th:only-of-type {\n",
       "        vertical-align: middle;\n",
       "    }\n",
       "\n",
       "    .dataframe tbody tr th {\n",
       "        vertical-align: top;\n",
       "    }\n",
       "\n",
       "    .dataframe thead th {\n",
       "        text-align: right;\n",
       "    }\n",
       "</style>\n",
       "<table border=\"1\" class=\"dataframe\">\n",
       "  <thead>\n",
       "    <tr style=\"text-align: right;\">\n",
       "      <th></th>\n",
       "      <th>FID</th>\n",
       "      <th>Shape *</th>\n",
       "      <th>kml_addres</th>\n",
       "      <th>kml_id</th>\n",
       "      <th>Longitude</th>\n",
       "      <th>Latitude</th>\n",
       "      <th>OfficeName</th>\n",
       "      <th>Country</th>\n",
       "    </tr>\n",
       "  </thead>\n",
       "  <tbody>\n",
       "    <tr>\n",
       "      <th>0</th>\n",
       "      <td>0</td>\n",
       "      <td>Point ZM</td>\n",
       "      <td></td>\n",
       "      <td>kml_1</td>\n",
       "      <td>144.949906</td>\n",
       "      <td>-37.821016</td>\n",
       "      <td>Melbourne</td>\n",
       "      <td>AUS</td>\n",
       "    </tr>\n",
       "    <tr>\n",
       "      <th>1</th>\n",
       "      <td>1</td>\n",
       "      <td>Point ZM</td>\n",
       "      <td></td>\n",
       "      <td>kml_2</td>\n",
       "      <td>151.204226</td>\n",
       "      <td>-33.870186</td>\n",
       "      <td>Sydney</td>\n",
       "      <td>AUS</td>\n",
       "    </tr>\n",
       "    <tr>\n",
       "      <th>2</th>\n",
       "      <td>2</td>\n",
       "      <td>Point ZM</td>\n",
       "      <td>4-5 Union Terrace, Aberdeen AB10 1NJ, UK</td>\n",
       "      <td>kml_3</td>\n",
       "      <td>-2.103146</td>\n",
       "      <td>57.145964</td>\n",
       "      <td>Aberdeen</td>\n",
       "      <td>GBR</td>\n",
       "    </tr>\n",
       "    <tr>\n",
       "      <th>3</th>\n",
       "      <td>3</td>\n",
       "      <td>Point ZM</td>\n",
       "      <td>Spring Bank House, 33 Stamford St, Altrincham ...</td>\n",
       "      <td>kml_4</td>\n",
       "      <td>54.364017</td>\n",
       "      <td>24.490816</td>\n",
       "      <td>Abu Dhabi</td>\n",
       "      <td>ARE</td>\n",
       "    </tr>\n",
       "    <tr>\n",
       "      <th>4</th>\n",
       "      <td>4</td>\n",
       "      <td>Point ZM</td>\n",
       "      <td></td>\n",
       "      <td>kml_5</td>\n",
       "      <td>-2.347197</td>\n",
       "      <td>53.389600</td>\n",
       "      <td>Altrincham</td>\n",
       "      <td>GBR</td>\n",
       "    </tr>\n",
       "  </tbody>\n",
       "</table>\n",
       "</div>"
      ],
      "text/plain": [
       "   FID   Shape *                                         kml_addres kml_id  \\\n",
       "0    0  Point ZM                                                     kml_1   \n",
       "1    1  Point ZM                                                     kml_2   \n",
       "2    2  Point ZM           4-5 Union Terrace, Aberdeen AB10 1NJ, UK  kml_3   \n",
       "3    3  Point ZM  Spring Bank House, 33 Stamford St, Altrincham ...  kml_4   \n",
       "4    4  Point ZM                                                     kml_5   \n",
       "\n",
       "    Longitude   Latitude  OfficeName Country  \n",
       "0  144.949906 -37.821016   Melbourne     AUS  \n",
       "1  151.204226 -33.870186      Sydney     AUS  \n",
       "2   -2.103146  57.145964    Aberdeen     GBR  \n",
       "3   54.364017  24.490816   Abu Dhabi     ARE  \n",
       "4   -2.347197  53.389600  Altrincham     GBR  "
      ]
     },
     "execution_count": 12,
     "metadata": {},
     "output_type": "execute_result"
    }
   ],
   "source": [
    "data_path = \"C:/Users/mor96198/OneDrive - Mott MacDonald/Documents/Kent Street GIS Project\"\n",
    "location = pd.read_csv(f\"{data_path}/MM_Offices_Around_The_World.csv\")\n",
    "location.rename(columns={\"Longitud\":\"Latitude\",'Latitude':\"Longitude\"}, inplace=True)\n",
    "location.head()"
   ]
  },
  {
   "cell_type": "markdown",
   "id": "e04d1d37",
   "metadata": {},
   "source": [
    "## Set up map"
   ]
  },
  {
   "cell_type": "code",
   "execution_count": 13,
   "id": "3541e2a8",
   "metadata": {},
   "outputs": [
    {
     "name": "stdout",
     "output_type": "stream",
     "text": [
      "User Guide: https://docs.kepler.gl/docs/keplergl-jupyter\n"
     ]
    }
   ],
   "source": [
    "# Load an empty map\n",
    "from keplergl import KeplerGl\n",
    "map_1 = KeplerGl()\n",
    "map_1.add_data(data=location, name='MM Offices')\n",
    "#map_1.config = config"
   ]
  },
  {
   "cell_type": "code",
   "execution_count": 14,
   "id": "0c33e9ce",
   "metadata": {},
   "outputs": [
    {
     "data": {
      "application/vnd.jupyter.widget-view+json": {
       "model_id": "bd7ed55ffd4d4bf9b6f8dbf274bcf5b7",
       "version_major": 2,
       "version_minor": 0
      },
      "text/plain": [
       "KeplerGl(data={'MM Offices': {'index': [0, 1, 2, 3, 4, 5, 6, 7, 8, 9, 10, 11, 12, 13, 14, 15, 16, 17, 18, 19, …"
      ]
     },
     "metadata": {},
     "output_type": "display_data"
    }
   ],
   "source": [
    "map_1"
   ]
  },
  {
   "cell_type": "code",
   "execution_count": 15,
   "id": "c148952b",
   "metadata": {},
   "outputs": [
    {
     "name": "stdout",
     "output_type": "stream",
     "text": [
      "Map saved to my_keplergl_map.html!\n"
     ]
    }
   ],
   "source": [
    "map_1.save_to_html(file_name=\"my_keplergl_map.html\")"
   ]
  }
 ],
 "metadata": {
  "kernelspec": {
   "display_name": "Python 3",
   "language": "python",
   "name": "python3"
  },
  "language_info": {
   "codemirror_mode": {
    "name": "ipython",
    "version": 3
   },
   "file_extension": ".py",
   "mimetype": "text/x-python",
   "name": "python",
   "nbconvert_exporter": "python",
   "pygments_lexer": "ipython3",
   "version": "3.8.6"
  }
 },
 "nbformat": 4,
 "nbformat_minor": 5
}
